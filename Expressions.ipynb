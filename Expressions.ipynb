{
 "cells": [
  {
   "cell_type": "markdown",
   "metadata": {},
   "source": [
    "# Expressions"
   ]
  },
  {
   "cell_type": "code",
   "execution_count": 1,
   "metadata": {},
   "outputs": [
    {
     "data": {
      "text/plain": [
       "2"
      ]
     },
     "execution_count": 1,
     "metadata": {},
     "output_type": "execute_result"
    }
   ],
   "source": [
    "1+1"
   ]
  },
  {
   "cell_type": "code",
   "execution_count": 2,
   "metadata": {},
   "outputs": [
    {
     "name": "stdout",
     "output_type": "stream",
     "text": [
      "1\n",
      "2\n",
      "x: 3\n",
      "(y ,4)\n",
      "(x: Int) => x + 33\n",
      "(x: Int) <= x + 33\n",
      "No difference for '=>' and '<=' 3\n"
     ]
    },
    {
     "data": {
      "text/plain": [
       "x = 3\n",
       "y = 4\n"
      ]
     },
     "metadata": {},
     "output_type": "display_data"
    },
    {
     "data": {
      "text/plain": [
       "4"
      ]
     },
     "execution_count": 2,
     "metadata": {},
     "output_type": "execute_result"
    }
   ],
   "source": [
    "println(1) \n",
    "\n",
    "println(1+1)\n",
    "\n",
    "val x = 1 + 2\n",
    "println(\"x: \" + x)\n",
    "\n",
    "val y: Int = 1 + 3 // you cannot define val x:Int = 1 + 3; x is already defined as value x\n",
    "println(\"y \",y)\n",
    "\n",
    "(x: Int) => x + 3\n",
    "println(\"(x: Int) => x + 3\" + x)\n",
    "\n",
    "(x: Int) <= x + 3\n",
    "println(\"(x: Int) <= x + 3\" + x)\n",
    "\n",
    "// No difference for \"=>\" and \"<=\"\n",
    "println(\"No difference for '=>' and '<=' \" + x)"
   ]
  },
  {
   "cell_type": "code",
   "execution_count": 3,
   "metadata": {},
   "outputs": [
    {
     "name": "stdout",
     "output_type": "stream",
     "text": [
      "10\n"
     ]
    },
    {
     "data": {
      "text/plain": [
       "x = 10\n",
       "x = 10\n"
      ]
     },
     "metadata": {},
     "output_type": "display_data"
    },
    {
     "data": {
      "text/plain": [
       "10"
      ]
     },
     "execution_count": 3,
     "metadata": {},
     "output_type": "execute_result"
    }
   ],
   "source": [
    "/* \n",
    "* val x = 1 + 2\n",
    "* x = 4 // this cannot be compiled because of \"reassignment to val\"\n",
    "*/\n",
    "\n",
    "\n",
    "var x = 1 + 2\n",
    "x = 10 // \n",
    "\n",
    "\n",
    "/* \n",
    "* It is possible if you try the \"var\" way \n",
    "* because the variability can be reassigned and \n",
    "* the value can not be reassigned\n",
    "*/\n",
    "println(x)"
   ]
  },
  {
   "cell_type": "code",
   "execution_count": 4,
   "metadata": {},
   "outputs": [
    {
     "name": "stdout",
     "output_type": "stream",
     "text": [
      "()\n",
      "3\n"
     ]
    }
   ],
   "source": [
    "// println(val x = 1 + 1)\n",
    "// this can not be compiled and you should add \"{}\"\n",
    "\n",
    "println({\n",
    "    val x = 1 + 1\n",
    "})\n",
    "\n",
    "println({\n",
    "    val x = 1 + 1\n",
    "    x + 1\n",
    "})"
   ]
  },
  {
   "cell_type": "code",
   "execution_count": 5,
   "metadata": {},
   "outputs": [
    {
     "name": "stdout",
     "output_type": "stream",
     "text": [
      "2\n"
     ]
    },
    {
     "data": {
      "text/plain": [
       "addOne = > Int = <function1>\n"
      ]
     },
     "metadata": {},
     "output_type": "display_data"
    },
    {
     "data": {
      "text/plain": [
       "> Int = <function1>"
      ]
     },
     "execution_count": 5,
     "metadata": {},
     "output_type": "execute_result"
    }
   ],
   "source": [
    "(x: Int) => x + 1\n",
    "val addOne = (x: Int) => x + 1\n",
    "println(addOne(1))"
   ]
  },
  {
   "cell_type": "code",
   "execution_count": 6,
   "metadata": {},
   "outputs": [
    {
     "name": "stdout",
     "output_type": "stream",
     "text": [
      "3\n"
     ]
    },
    {
     "data": {
      "text/plain": [
       "add = > Int = <function2>\n"
      ]
     },
     "metadata": {},
     "output_type": "display_data"
    },
    {
     "data": {
      "text/plain": [
       "> Int = <function2>"
      ]
     },
     "execution_count": 6,
     "metadata": {},
     "output_type": "execute_result"
    }
   ],
   "source": [
    "val add = (x: Int, y: Int) => x + y\n",
    "println(add(1, 2))"
   ]
  },
  {
   "cell_type": "code",
   "execution_count": 7,
   "metadata": {},
   "outputs": [
    {
     "name": "stdout",
     "output_type": "stream",
     "text": [
      "42\n"
     ]
    },
    {
     "data": {
      "text/plain": [
       "getTheAnswer = > Int = <function0>\n"
      ]
     },
     "metadata": {},
     "output_type": "display_data"
    },
    {
     "data": {
      "text/plain": [
       "> Int = <function0>"
      ]
     },
     "execution_count": 7,
     "metadata": {},
     "output_type": "execute_result"
    }
   ],
   "source": [
    "val getTheAnswer = () => 42\n",
    "println(getTheAnswer())"
   ]
  },
  {
   "cell_type": "code",
   "execution_count": 8,
   "metadata": {},
   "outputs": [
    {
     "data": {
      "text/plain": [
       "addThenMultiply: (x: Int, y: Int)(multiplier: Int)Int\n"
      ]
     },
     "metadata": {},
     "output_type": "display_data"
    },
    {
     "name": "stdout",
     "output_type": "stream",
     "text": [
      "9\n"
     ]
    }
   ],
   "source": [
    "def addThenMultiply(x: Int, y: Int)(multiplier: Int): \n",
    "    Int = (x + y) * multiplier\n",
    "\n",
    "println(addThenMultiply(1, 2)(3))"
   ]
  },
  {
   "cell_type": "code",
   "execution_count": 9,
   "metadata": {},
   "outputs": [
    {
     "data": {
      "text/plain": [
       "Name: Compile Error\n",
       "Message: <console>:31: error: ambiguous reference to overloaded definition,\n",
       "both method name of type => String\n",
       "and  method name of type => String\n",
       "match expected type Any\n",
       "       println(\"Hello, \" + name + \"!\")\n",
       "                           ^\n",
       "<console>:26: error: ambiguous reference to overloaded definition,\n",
       "both method name of type => String\n",
       "and  method name of type => String\n",
       "match expected type Any\n",
       "       println(\"Hello, \" + name + \"!\")\n",
       "                           ^\n",
       "<console>:28: error: method name is defined twice\n",
       "  conflicting symbols both originated in file '<console>'\n",
       "       def name: String = System.getProperty(\"name\")\n",
       "           ^\n",
       "\n",
       "StackTrace: "
      ]
     },
     "execution_count": 9,
     "metadata": {},
     "output_type": "execute_result"
    }
   ],
   "source": [
    "def name: String = System.getProperty(\"name\")\n",
    "println(\"Hello, \" + name + \"!\")\n",
    "\n",
    "def name: String = System.getProperty(\"name\")\n",
    "println(\"Hello, \" + name + \"!\")"
   ]
  },
  {
   "cell_type": "code",
   "execution_count": 10,
   "metadata": {},
   "outputs": [
    {
     "data": {
      "text/plain": [
       "getSquareString: (input: Double)String\n"
      ]
     },
     "metadata": {},
     "output_type": "display_data"
    },
    {
     "name": "stdout",
     "output_type": "stream",
     "text": [
      "144.0\n"
     ]
    }
   ],
   "source": [
    "def getSquareString(input: Double): String = {\n",
    "  val square = input * input\n",
    "  square.toString\n",
    "}\n",
    "println(getSquareString(12))"
   ]
  }
 ],
 "metadata": {
  "kernelspec": {
   "display_name": "apache_toree - Scala",
   "language": "scala",
   "name": "apache_toree_scala"
  },
  "language_info": {
   "codemirror_mode": "text/x-scala",
   "file_extension": ".scala",
   "mimetype": "text/x-scala",
   "name": "scala",
   "pygments_lexer": "scala",
   "version": "2.11.12"
  }
 },
 "nbformat": 4,
 "nbformat_minor": 2
}
