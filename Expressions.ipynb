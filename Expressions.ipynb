{
 "cells": [
  {
   "cell_type": "markdown",
   "metadata": {},
   "source": [
    "# Expressions"
   ]
  },
  {
   "cell_type": "code",
   "execution_count": 1,
   "metadata": {},
   "outputs": [
    {
     "data": {
      "text/plain": [
       "2"
      ]
     },
     "execution_count": 1,
     "metadata": {},
     "output_type": "execute_result"
    }
   ],
   "source": [
    "1+1"
   ]
  },
  {
   "cell_type": "code",
   "execution_count": 21,
   "metadata": {},
   "outputs": [
    {
     "name": "stdout",
     "output_type": "stream",
     "text": [
      "1\n",
      "2\n",
      "x: 3\n",
      "(y ,4)\n",
      "(x: Int) => x + 33\n",
      "(x: Int) <= x + 33\n",
      "No difference for '=>' and '<=' 3\n"
     ]
    },
    {
     "data": {
      "text/plain": [
       "x = 3\n",
       "y = 4\n"
      ]
     },
     "metadata": {},
     "output_type": "display_data"
    },
    {
     "data": {
      "text/plain": [
       "4"
      ]
     },
     "execution_count": 21,
     "metadata": {},
     "output_type": "execute_result"
    }
   ],
   "source": [
    "println(1) \n",
    "println(1+1)\n",
    "val x = 1 + 2\n",
    "println(\"x: \" + x)\n",
    "val y: Int = 1 + 3 // you cannot define val x:Int = 1 + 3; x is already defined as value x\n",
    "println(\"y \",y)\n",
    "(x: Int) => x + 3\n",
    "println(\"(x: Int) => x + 3\" + x)\n",
    "(x: Int) <= x + 3\n",
    "println(\"(x: Int) <= x + 3\" + x)\n",
    "// No difference for \"=>\" and \"<=\"\n",
    "println(\"No difference for '=>' and '<=' \" + x)"
   ]
  },
  {
   "cell_type": "code",
   "execution_count": 8,
   "metadata": {},
   "outputs": [
    {
     "name": "stdout",
     "output_type": "stream",
     "text": [
      "10\n"
     ]
    },
    {
     "data": {
      "text/plain": [
       "x = 10\n",
       "x = 10\n"
      ]
     },
     "metadata": {},
     "output_type": "display_data"
    },
    {
     "data": {
      "text/plain": [
       "10"
      ]
     },
     "execution_count": 8,
     "metadata": {},
     "output_type": "execute_result"
    }
   ],
   "source": [
    "/* \n",
    "* val x = 1 + 2\n",
    "* x = 4 // this cannot be compiled because of \"reassignment to val\"\n",
    "*/\n",
    "var x = 1 + 2\n",
    "x = 10 // \n",
    "/* \n",
    "* It is possible if you try the \"var\" way \n",
    "* because the variability can be reassigned and \n",
    "* the value can not be reassigned\n",
    "*/\n",
    "println(x)"
   ]
  },
  {
   "cell_type": "code",
   "execution_count": 14,
   "metadata": {},
   "outputs": [
    {
     "name": "stdout",
     "output_type": "stream",
     "text": [
      "()\n",
      "3\n"
     ]
    }
   ],
   "source": [
    "// println(val x = 1 + 1)\n",
    "// this can not be compiled and you should add \"{}\"\n",
    "\n",
    "println({\n",
    "    val x = 1 + 1\n",
    "})\n",
    "\n",
    "println({\n",
    "    val x = 1 + 1\n",
    "    x + 1\n",
    "})"
   ]
  },
  {
   "cell_type": "code",
   "execution_count": null,
   "metadata": {},
   "outputs": [],
   "source": []
  }
 ],
 "metadata": {
  "kernelspec": {
   "display_name": "apache_toree - Scala",
   "language": "scala",
   "name": "apache_toree_scala"
  },
  "language_info": {
   "codemirror_mode": "text/x-scala",
   "file_extension": ".scala",
   "mimetype": "text/x-scala",
   "name": "scala",
   "pygments_lexer": "scala",
   "version": "2.11.12"
  }
 },
 "nbformat": 4,
 "nbformat_minor": 2
}
