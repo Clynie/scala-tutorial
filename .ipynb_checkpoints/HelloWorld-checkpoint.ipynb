{
 "cells": [
  {
   "cell_type": "markdown",
   "metadata": {},
   "source": [
    "# Scala is a gateway drug to Haskell"
   ]
  },
  {
   "cell_type": "markdown",
   "metadata": {},
   "source": [
    "I was a pythoner for dealing with atmospheric data\n",
    "the scala seems quit different for me, \n",
    "so I begin with hello world"
   ]
  },
  {
   "cell_type": "code",
   "execution_count": 4,
   "metadata": {},
   "outputs": [
    {
     "data": {
      "text/plain": [
       "defined object HelloWorld\n"
      ]
     },
     "metadata": {},
     "output_type": "display_data"
    }
   ],
   "source": [
    "object HelloWorld{\n",
    "    def main(args: Array[String]): Unit = {\n",
    "        println(\"Hello World\")\n",
    "    }\n",
    "}"
   ]
  },
  {
   "cell_type": "markdown",
   "metadata": {},
   "source": [
    "you can run it with \n",
    "scalac HelloWorld.scala\n",
    "or \n",
    "scala HelloWorld"
   ]
  },
  {
   "cell_type": "markdown",
   "metadata": {},
   "source": [
    "Or Hello world in a command way"
   ]
  },
  {
   "cell_type": "code",
   "execution_count": 7,
   "metadata": {},
   "outputs": [
    {
     "name": "stdout",
     "output_type": "stream",
     "text": [
      "Hello World\n"
     ]
    }
   ],
   "source": [
    "println(\"Hello World\")"
   ]
  },
  {
   "cell_type": "raw",
   "metadata": {},
   "source": [
    "It is case-sensitive language"
   ]
  },
  {
   "cell_type": "code",
   "execution_count": 5,
   "metadata": {},
   "outputs": [
    {
     "data": {
      "text/plain": [
       "defined object helloWorld\n"
      ]
     },
     "metadata": {},
     "output_type": "display_data"
    }
   ],
   "source": [
    "object helloWorld{\n",
    "    def main(args: Array[String]): Unit = {\n",
    "        println(\"Hello World\")\n",
    "    }\n",
    "}"
   ]
  },
  {
   "cell_type": "code",
   "execution_count": 6,
   "metadata": {},
   "outputs": [
    {
     "data": {
      "text/plain": [
       "defined object Helloworld\n"
      ]
     },
     "metadata": {},
     "output_type": "display_data"
    }
   ],
   "source": [
    "object Helloworld{\n",
    "    def main(args: Array[String]): Unit = {\n",
    "        println(\"Hello World\")\n",
    "    }\n",
    "}"
   ]
  },
  {
   "cell_type": "markdown",
   "metadata": {},
   "source": [
    "Class introduction"
   ]
  },
  {
   "cell_type": "code",
   "execution_count": 14,
   "metadata": {},
   "outputs": [
    {
     "data": {
      "text/plain": [
       "defined class Point\n"
      ]
     },
     "metadata": {},
     "output_type": "display_data"
    }
   ],
   "source": [
    "class Point(xc: Int, yc: Int){\n",
    "    var x: Int = xc\n",
    "    var y: Int = yc\n",
    "    \n",
    "    def move(dx: Int, dy: Int){\n",
    "        x = x + dx\n",
    "        y = y + dy\n",
    "        println(\"Point x location :\" + x)\n",
    "        println(\"Point y location :\" + y)\n",
    "    }\n",
    "}"
   ]
  },
  {
   "cell_type": "markdown",
   "metadata": {},
   "source": [
    "THE CLASS CAN BE RUN AS Demo.scala"
   ]
  },
  {
   "cell_type": "code",
   "execution_count": 15,
   "metadata": {},
   "outputs": [
    {
     "data": {
      "text/plain": [
       "defined object Demo\n"
      ]
     },
     "metadata": {},
     "output_type": "display_data"
    }
   ],
   "source": [
    "object Demo {\n",
    "    def main(args: Array[String]){\n",
    "        val pt = new Point(10,20);\n",
    "        /*\n",
    "        this is first way to annotation\n",
    "        you can change the line simply like python ''' or \"\"\"\n",
    "        * for personal habit, we begin * in newline\n",
    "        */\n",
    "        pt.move(10,10)\n",
    "        // the second way to annotation is \"//\"\n",
    "        // it is similar to # in python\n",
    "    }\n",
    "}"
   ]
  },
  {
   "cell_type": "markdown",
   "metadata": {},
   "source": [
    "OR RUN AS FOLLOW:"
   ]
  },
  {
   "cell_type": "code",
   "execution_count": 24,
   "metadata": {},
   "outputs": [
    {
     "name": "stdout",
     "output_type": "stream",
     "text": [
      "Point x location :20\n",
      "Point y location :30\n"
     ]
    },
    {
     "data": {
      "text/plain": [
       "pt = Point@f745406\n"
      ]
     },
     "metadata": {},
     "output_type": "display_data"
    },
    {
     "data": {
      "text/plain": [
       "Point@f745406"
      ]
     },
     "execution_count": 24,
     "metadata": {},
     "output_type": "execute_result"
    }
   ],
   "source": [
    "val pt = new Point(10,20);\n",
    "pt.move(10,10)"
   ]
  },
  {
   "cell_type": "markdown",
   "metadata": {},
   "source": [
    "> def - defines an immutable label for the right side content which is lazily evaluated - evaluate by name.\n",
    "\n",
    "> val - defines an immutable label for the right side content which is eagerly/immediately evaluated - evaluated by value.\n",
    "\n",
    "> var - defines a mutable variable, initially set to the evaluated right side content...\n",
    "\n",
    "There is two general cases when you ommit new in scala. \n",
    "1. With singleton objects (that are oftenly used to store static functions and as a kind of factory similar to what you may seen in java)\n",
    "2. With a case classes (actually, underneath there are class + object = companion pattern, e.g. having class and object with the same name)\n"
   ]
  },
  {
   "cell_type": "code",
   "execution_count": null,
   "metadata": {},
   "outputs": [],
   "source": []
  }
 ],
 "metadata": {
  "kernelspec": {
   "display_name": "apache_toree - Scala",
   "language": "scala",
   "name": "apache_toree_scala"
  },
  "language_info": {
   "codemirror_mode": "text/x-scala",
   "file_extension": ".scala",
   "mimetype": "text/x-scala",
   "name": "scala",
   "pygments_lexer": "scala",
   "version": "2.11.12"
  }
 },
 "nbformat": 4,
 "nbformat_minor": 2
}
